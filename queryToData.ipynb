{
 "cells": [
  {
   "cell_type": "code",
   "execution_count": 1,
   "metadata": {},
   "outputs": [],
   "source": [
    "#import  RNAseqQueryingInit\n",
    "##static params\n",
    "baseDir='/home/ec2-user/efs/all_seq/rnaseq_merged/' #Base directory\n",
    "\n",
    "import warnings\n",
    "warnings.filterwarnings('ignore')\n",
    "import ipywidgets as widgets\n",
    "import os\n",
    "import pandas as pd\n",
    "import re"
   ]
  },
  {
   "cell_type": "code",
   "execution_count": 2,
   "metadata": {},
   "outputs": [],
   "source": [
    "exampleQuery='B-Cell,T-Cell' "
   ]
  },
  {
   "cell_type": "code",
   "execution_count": 3,
   "metadata": {},
   "outputs": [],
   "source": [
    "baseDir_FnameS=pd.Series(os.listdir(baseDir))\n",
    "speciesWithReprocessedData=baseDir_FnameS[baseDir_FnameS.str.contains('.npy$')].str.split('.').str[0].unique()\n"
   ]
  },
  {
   "cell_type": "markdown",
   "metadata": {},
   "source": [
    "## Data loading"
   ]
  },
  {
   "cell_type": "markdown",
   "metadata": {},
   "source": [
    "### load in SRS biospecieman annotations"
   ]
  },
  {
   "cell_type": "code",
   "execution_count": 4,
   "metadata": {},
   "outputs": [],
   "source": [
    "import pandas as pd\n",
    "import numpy as np\n",
    "\n",
    "allSRS_pickle_dir='~/efs/all_seq/meta_data/allSRS.with_processed_data.flat.pickle.gz'\n",
    "allSRS=pd.read_pickle(allSRS_pickle_dir)\n",
    "allSRS.index.names=['SRS']"
   ]
  },
  {
   "cell_type": "markdown",
   "metadata": {},
   "source": [
    "### load in technical metadata"
   ]
  },
  {
   "cell_type": "code",
   "execution_count": 5,
   "metadata": {},
   "outputs": [
    {
     "name": "stdout",
     "output_type": "stream",
     "text": [
      "CPU times: user 4.06 s, sys: 906 ms, total: 4.97 s\n",
      "Wall time: 7.38 s\n"
     ]
    }
   ],
   "source": [
    "sra_dump_pickle_dir='~/efs/all_seq/meta_data/sra_dump.fastqc.bowtie_algn.pickle'\n",
    "%time technical_meta_data_df=pd.read_pickle(sra_dump_pickle_dir)\n",
    "technical_meta_data_df[('SRAmeta','Run')]=technical_meta_data_df.index"
   ]
  },
  {
   "cell_type": "markdown",
   "metadata": {},
   "source": [
    "### load the expression matrix\n",
    "\n",
    "Check files in baseDir directory for more species"
   ]
  },
  {
   "cell_type": "code",
   "execution_count": 104,
   "metadata": {},
   "outputs": [],
   "source": [
    "expression_metric='tpm' #\n",
    "queryLabel='queryLabel'\n",
    "\n",
    "def loadDf(fname,mmap_mode='r'):\n",
    "    with open(fname+'.index.txt') as f:\n",
    "        myIndex=map(lambda s:s.replace(\"\\n\",\"\"), f.readlines())\n",
    "    with open(fname+'.columns.txt') as f:\n",
    "        myColumns=map(lambda s:s.replace(\"\\n\",\"\"), f.readlines())\n",
    "    tmpMatrix=np.load(fname+\".npy\",mmap_mode=mmap_mode)\n",
    "    tmpDf=pd.DataFrame(tmpMatrix,index=myIndex,columns=myColumns)\n",
    "    tmpDf.columns.name='Run'\n",
    "    return tmpDf\n"
   ]
  },
  {
   "cell_type": "markdown",
   "metadata": {},
   "source": [
    "### define layout"
   ]
  },
  {
   "cell_type": "code",
   "execution_count": 105,
   "metadata": {},
   "outputs": [],
   "source": [
    "def returnDesignDf(queryLabelToRegexDict):\n",
    "    myL=[]\n",
    "    for  queryRegex in queryLabelToRegexDict.values():\n",
    "        hitSrsS=allSRS[allSRS.str.contains(queryRegex,case=False)]\n",
    "        myL.append(hitSrsS)\n",
    "\n",
    "    queryLabel='queryLabel'\n",
    "    mergeS=pd.concat(myL,keys=queryLabelToRegexDict.keys(),names=[queryLabel])\n",
    "    mergeS_noDup=mergeS.groupby(['SRS','queryLabel']).first()\n",
    "    unqiueHitMask=mergeS_noDup.groupby('SRS').size()==1\n",
    "    unqiueHitSrs=unqiueHitMask.index[unqiueHitMask]\n",
    "    mergeS_noDup_unique=mergeS_noDup[mergeS_noDup.index.get_level_values('SRS').isin(unqiueHitSrs)]\n",
    "\n",
    "    #Number of SRS per query class\n",
    "    mergeS_noDup_unique.groupby(queryLabel).size()\n",
    "\n",
    "    srsToClasses_all=mergeS_noDup_unique.reset_index().set_index(['SRS'])['queryLabel']\n",
    "\n",
    "    srsToClasses=srsToClasses_all\n",
    "\n",
    "    ### map SRS Ids to SRR Ids\n",
    "\n",
    "    m_SRAMeta=technical_meta_data_df[('SRAmeta','Sample')].isin(srsToClasses.index)\n",
    "    technical_meta_data_df_hit=technical_meta_data_df[m_SRAMeta]\n",
    "\n",
    "    SRAMetasrsCorrespondingQuery=srsToClasses.loc[technical_meta_data_df_hit[('SRAmeta','Sample')]].values\n",
    "    technical_meta_data_df_hit[('SRAmeta',queryLabel)]=SRAMetasrsCorrespondingQuery\n",
    "    relevantMetaColsL=[('SRAmeta',queryLabel),('SRAmeta','Study'),('SRAmeta','Sample'),('SRAmeta','Run'),('SRAmeta','ScientificName')]\n",
    "    technical_meta_data_df_sub=technical_meta_data_df_hit[relevantMetaColsL]\n",
    "    designDf=technical_meta_data_df_sub['SRAmeta']\n",
    "    \n",
    "    hitSrsAllAnnotS=allSRS[allSRS.index.get_level_values('SRS').isin(mergeS.index.get_level_values('SRS'))]\n",
    "    srsToTextS=hitSrsAllAnnotS\n",
    "    srsToTextS=pd.Series(data=\"NCBI SRA SRS:\"+srsToTextS.index+' <br> '+srsToTextS.values,index=srsToTextS.index)\n",
    "    designDf['Description']=srsToTextS[designDf.Sample].values\n",
    "    return designDf\n",
    "#Top species with # of reprocessed profiles"
   ]
  },
  {
   "cell_type": "code",
   "execution_count": null,
   "metadata": {},
   "outputs": [],
   "source": []
  },
  {
   "cell_type": "markdown",
   "metadata": {},
   "source": [
    "### define call back functions"
   ]
  },
  {
   "cell_type": "code",
   "execution_count": 168,
   "metadata": {},
   "outputs": [],
   "source": [
    "import dash\n",
    "from dash.dependencies import Input, Output\n",
    "import dash_core_components as dcc\n",
    "import dash_html_components as html\n",
    "\n",
    "import flask\n",
    "import pandas as pd\n",
    "import time\n",
    "import os\n",
    "from flask_caching import Cache\n",
    "\n",
    "server = flask.Flask('app')\n",
    "server.secret_key = os.environ.get('secret_key', 'secret')\n",
    "\n",
    "df = pd.read_csv('https://raw.githubusercontent.com/plotly/datasets/master/hello-world-stock.csv')\n",
    "\n",
    "app = dash.Dash('app', server=server)\n",
    "cache = Cache(app.server, config={\n",
    "    'CACHE_TYPE': 'redis',\n",
    "    'CACHE_TYPE': 'filesystem',\n",
    "    'CACHE_DIR': 'cache-directory',\n",
    "    'CACHE_THRESHOLD': 200\n",
    "})\n",
    "\n",
    "\n",
    "\n",
    "\n",
    "app.scripts.config.serve_locally = False\n",
    "dcc._js_dist[0]['external_url'] = 'https://cdn.plot.ly/plotly-basic-latest.min.js'\n"
   ]
  },
  {
   "cell_type": "code",
   "execution_count": 169,
   "metadata": {},
   "outputs": [],
   "source": [
    "\n",
    "\"\"\"\n",
    "input: search text\n",
    "output:\n",
    "\"\"\"\n",
    "\n",
    "\n",
    "\n",
    "@cache.memoize()\n",
    "def query_and_serialize_data(interact_value):\n",
    "    querySpecie='Homo_sapiens'#widget_specie.get_interact_value()\n",
    "    queryStr=interact_value\n",
    "    listOfQueries=re.split(\" *, *\", queryStr)\n",
    "    if len(queryStr)<3:\n",
    "        raise ValueError('Please provide a query with more than 3 characters')\n",
    "    queryLabelToRegexDict=dict(zip(listOfQueries,listOfQueries))\n",
    "    designDf=returnDesignDf(queryLabelToRegexDict)\n",
    "\n",
    "    #Subset the set of reprocessed data\n",
    "    data_matrix_dir=baseDir+'/{specie}.gene_symbol.{expression_metric}'.format(specie=querySpecie,\n",
    "                                        expression_metric=expression_metric)\n",
    "\n",
    "    rnaseqDf=loadDf(data_matrix_dir)\n",
    "    designDf_specie=designDf[(designDf['ScientificName']==querySpecie)&(designDf.Run.isin(rnaseqDf.columns))]\n",
    "    queryDesignDf=designDf_specie\n",
    "    #print ('Number of samples per query class that have data reprocessed in SkyMap: ',designDf_specie.groupby(queryLabel).size())\n",
    "    hitDf=pd.DataFrame( list(map( lambda srrId: rnaseqDf[srrId],queryDesignDf.Run))).T\n",
    "    hitDf.columns=queryDesignDf.set_index(queryDesignDf.columns.tolist()).index\n",
    "    return hitDf\n",
    "\n",
    "\n",
    "#session_id = str(uuid.uuid4())\n",
    "app.layout = html.Div([\n",
    "    html.Div(dcc.Input(id='input-box', type='text')),\n",
    "    html.Button('Search', id='button'),\n",
    "    dcc.Graph(id='my-graph') ,\n",
    "    html.Div(id='output-container-button',\n",
    "             children='Enter a value and press submit'),\n",
    "    \n",
    "    html.Div(id='designDf', style={'display': 'none'}),\n",
    "    #html.Div(id='designDf', style={'display': 'none'})\n",
    "    #dcc.Graph(id='my-graph2') ,\n",
    "], style={'columnCount': 2})\n",
    "        #return (str(designDf.shape[0]))\n",
    "\"\"\"\n",
    ",\n",
    "    [dash.dependencies.State('input-box', 'value')]\n",
    "\"\"\"\n",
    "\n",
    "@app.callback(\n",
    "    dash.dependencies.Output('output-container-button', 'children'),\n",
    "    [dash.dependencies.Input('button', 'n_clicks'),\n",
    "    # Input('session-id', 'children')\n",
    "    ],\n",
    "    [dash.dependencies.State('input-box', 'value')])\n",
    "def searchFunction(n_clicks,interact_value):\n",
    "    if n_clicks: #if n_clicks not null\n",
    "        #gnerate and savee expression matrix\n",
    "        hitDf=query_and_serialize_data(interact_value)\n",
    "        return \"Number of sequencing experiment returned: {}\".format(hitDf.shape[1])\n",
    "\n",
    "#    [dash.dependencies.State('input-box', 'value')]\n",
    "@app.callback(\n",
    "    dash.dependencies.Output('my-graph','figure'),\n",
    "    [dash.dependencies.Input('output-container-button','children'),\n",
    "     #dash.dependencies.Input('input-box', 'value'),\n",
    "    ],[dash.dependencies.State('input-box', 'value')])\n",
    "def plotPCA(container,interact_value):\n",
    "        print ('called plot PCA: ',container,interact_value)\n",
    "        #if str( \"Number of sequencing experiment returned\") in str(container):\n",
    "        #    print ('in loop')\n",
    "        if len(str(interact_value))>0:\n",
    "            interact_value=interact_value\n",
    "\n",
    "            import numpy as np\n",
    "            hitDf=query_and_serialize_data(interact_value)\n",
    "            inputAnalyzeDf=np.log2(hitDf+1)\n",
    "            inPcaDf=inputAnalyzeDf.T\n",
    "\n",
    "            from sklearn import decomposition\n",
    "            import plotly.graph_objs as go\n",
    "            #from plotly.offline import iplot, init_notebook_mode\n",
    "\n",
    "            PCA=decomposition.PCA(n_components=3)\n",
    "\n",
    "            pcaM=PCA.fit_transform((inPcaDf))\n",
    "            pcaDf=pd.DataFrame( data=pcaM,index=inPcaDf.index)\n",
    "\n",
    "            layout_3d = go.Layout(\n",
    "                        scene = dict(\n",
    "                        xaxis = dict(\n",
    "                            title='PC0'),\n",
    "                        yaxis = dict(\n",
    "                            title='PC1',),\n",
    "                        zaxis = dict(\n",
    "                            title='PC2',),),\n",
    "                      )\n",
    "\n",
    "            #fig = go.Figure(layout=layout_3d)\n",
    "            dataL=[]\n",
    "            for label, sub_pca_df in pcaDf.groupby('queryLabel'):\n",
    "                dataL.append(go.Scatter3d(x=sub_pca_df[0], y=sub_pca_df[1],z=sub_pca_df[2],\n",
    "                                  name=label,\n",
    "                                hovertext=sub_pca_df.index.get_level_values('Description'),\n",
    "                                mode = 'markers')\n",
    "                            )\n",
    "\n",
    "            return {'data':dataL,'layout':layout_3d}\n",
    "\n"
   ]
  },
  {
   "cell_type": "code",
   "execution_count": 170,
   "metadata": {},
   "outputs": [
    {
     "name": "stdout",
     "output_type": "stream",
     "text": [
      " * Serving Flask app \"app\" (lazy loading)\n",
      " * Environment: production\n",
      "   WARNING: Do not use the development server in a production environment.\n",
      "   Use a production WSGI server instead.\n",
      " * Debug mode: off\n"
     ]
    },
    {
     "name": "stderr",
     "output_type": "stream",
     "text": [
      " * Running on http://127.0.0.1:8050/ (Press CTRL+C to quit)\n",
      "127.0.0.1 - - [15/Feb/2019 02:36:29] \"GET / HTTP/1.1\" 200 -\n",
      "127.0.0.1 - - [15/Feb/2019 02:36:30] \"GET /_dash-layout HTTP/1.1\" 200 -\n",
      "127.0.0.1 - - [15/Feb/2019 02:36:30] \"GET /_dash-dependencies HTTP/1.1\" 200 -\n",
      "127.0.0.1 - - [15/Feb/2019 02:36:30] \"POST /_dash-update-component HTTP/1.1\" 200 -\n",
      "[2019-02-15 02:36:30,717] ERROR in app: Exception on /_dash-update-component [POST]\n",
      "Traceback (most recent call last):\n",
      "  File \"/home/ec2-user/miniconda3/lib/python3.7/site-packages/flask/app.py\", line 2292, in wsgi_app\n",
      "    response = self.full_dispatch_request()\n",
      "  File \"/home/ec2-user/miniconda3/lib/python3.7/site-packages/flask/app.py\", line 1815, in full_dispatch_request\n",
      "    rv = self.handle_user_exception(e)\n",
      "  File \"/home/ec2-user/miniconda3/lib/python3.7/site-packages/flask/app.py\", line 1718, in handle_user_exception\n",
      "    reraise(exc_type, exc_value, tb)\n",
      "  File \"/home/ec2-user/miniconda3/lib/python3.7/site-packages/flask/_compat.py\", line 35, in reraise\n",
      "    raise value\n",
      "  File \"/home/ec2-user/miniconda3/lib/python3.7/site-packages/flask/app.py\", line 1813, in full_dispatch_request\n",
      "    rv = self.dispatch_request()\n",
      "  File \"/home/ec2-user/miniconda3/lib/python3.7/site-packages/flask/app.py\", line 1799, in dispatch_request\n",
      "    return self.view_functions[rule.endpoint](**req.view_args)\n",
      "  File \"/home/ec2-user/miniconda3/lib/python3.7/site-packages/dash/dash.py\", line 959, in dispatch\n",
      "    return self.callback_map[target_id]['callback'](*args)\n",
      "  File \"/home/ec2-user/miniconda3/lib/python3.7/site-packages/dash/dash.py\", line 899, in add_context\n",
      "    output_value = func(*args, **kwargs)\n",
      "  File \"<ipython-input-169-5f1b0eed3da3>\", line 76, in plotPCA\n",
      "    hitDf=query_and_serialize_data(interact_value)\n",
      "  File \"/home/ec2-user/miniconda3/lib/python3.7/site-packages/flask_caching/__init__.py\", line 686, in decorated_function\n",
      "    rv = f(*args, **kwargs)\n",
      "  File \"<ipython-input-169-5f1b0eed3da3>\", line 13, in query_and_serialize_data\n",
      "    listOfQueries=re.split(\" *, *\", queryStr)\n",
      "  File \"/home/ec2-user/miniconda3/lib/python3.7/re.py\", line 213, in split\n",
      "    return _compile(pattern, flags).split(string, maxsplit)\n",
      "TypeError: expected string or bytes-like object\n",
      "127.0.0.1 - - [15/Feb/2019 02:36:30] \"POST /_dash-update-component HTTP/1.1\" 500 -\n",
      "127.0.0.1 - - [15/Feb/2019 02:36:30] \"GET /_favicon.ico HTTP/1.1\" 200 -\n"
     ]
    },
    {
     "name": "stdout",
     "output_type": "stream",
     "text": [
      "called plot PCA:  None None\n"
     ]
    },
    {
     "name": "stderr",
     "output_type": "stream",
     "text": [
      "127.0.0.1 - - [15/Feb/2019 02:36:33] \"POST /_dash-update-component HTTP/1.1\" 200 -\n"
     ]
    },
    {
     "name": "stdout",
     "output_type": "stream",
     "text": [
      "called plot PCA:  Number of sequencing experiment returned: 1191 T-Cell\n"
     ]
    },
    {
     "name": "stderr",
     "output_type": "stream",
     "text": [
      "127.0.0.1 - - [15/Feb/2019 02:36:37] \"POST /_dash-update-component HTTP/1.1\" 200 -\n",
      "127.0.0.1 - - [15/Feb/2019 02:37:32] \"POST /_dash-update-component HTTP/1.1\" 200 -\n"
     ]
    },
    {
     "name": "stdout",
     "output_type": "stream",
     "text": [
      "called plot PCA:  Number of sequencing experiment returned: 485 B-Cell\n"
     ]
    },
    {
     "name": "stderr",
     "output_type": "stream",
     "text": [
      "127.0.0.1 - - [15/Feb/2019 02:37:34] \"POST /_dash-update-component HTTP/1.1\" 200 -\n",
      "127.0.0.1 - - [15/Feb/2019 02:38:19] \"POST /_dash-update-component HTTP/1.1\" 200 -\n"
     ]
    },
    {
     "name": "stdout",
     "output_type": "stream",
     "text": [
      "called plot PCA:  Number of sequencing experiment returned: 1676 T-Cell, B-Cell\n"
     ]
    },
    {
     "name": "stderr",
     "output_type": "stream",
     "text": [
      "127.0.0.1 - - [15/Feb/2019 02:38:26] \"POST /_dash-update-component HTTP/1.1\" 200 -\n"
     ]
    }
   ],
   "source": [
    "app.run_server()"
   ]
  },
  {
   "cell_type": "code",
   "execution_count": 145,
   "metadata": {},
   "outputs": [],
   "source": [
    "#import plotly.graph_objs as go"
   ]
  },
  {
   "cell_type": "code",
   "execution_count": 146,
   "metadata": {},
   "outputs": [],
   "source": [
    "#go.Scatter3d"
   ]
  },
  {
   "cell_type": "code",
   "execution_count": 147,
   "metadata": {},
   "outputs": [
    {
     "name": "stdout",
     "output_type": "stream",
     "text": [
      " * Serving Flask app \"app\" (lazy loading)\n",
      " * Environment: production\n",
      "   WARNING: Do not use the development server in a production environment.\n",
      "   Use a production WSGI server instead.\n",
      " * Debug mode: off\n"
     ]
    },
    {
     "name": "stderr",
     "output_type": "stream",
     "text": [
      " * Running on http://127.0.0.1:8050/ (Press CTRL+C to quit)\n",
      "127.0.0.1 - - [15/Feb/2019 02:22:38] \"POST /_dash-update-component HTTP/1.1\" 200 -\n",
      "127.0.0.1 - - [15/Feb/2019 02:22:38] \"GET / HTTP/1.1\" 200 -\n",
      "127.0.0.1 - - [15/Feb/2019 02:22:39] \"GET /_dash-layout HTTP/1.1\" 200 -\n",
      "127.0.0.1 - - [15/Feb/2019 02:22:39] \"GET /_dash-dependencies HTTP/1.1\" 200 -\n",
      "127.0.0.1 - - [15/Feb/2019 02:22:40] \"POST /_dash-update-component HTTP/1.1\" 200 -\n",
      "127.0.0.1 - - [15/Feb/2019 02:22:40] \"GET /_favicon.ico HTTP/1.1\" 200 -\n",
      "127.0.0.1 - - [15/Feb/2019 02:22:41] \"POST /_dash-update-component HTTP/1.1\" 200 -\n",
      "127.0.0.1 - - [15/Feb/2019 02:22:41] \"POST /_dash-update-component HTTP/1.1\" 200 -\n",
      "127.0.0.1 - - [15/Feb/2019 02:22:41] \"POST /_dash-update-component HTTP/1.1\" 200 -\n",
      "127.0.0.1 - - [15/Feb/2019 02:22:41] \"POST /_dash-update-component HTTP/1.1\" 200 -\n",
      "127.0.0.1 - - [15/Feb/2019 02:22:41] \"POST /_dash-update-component HTTP/1.1\" 200 -\n",
      "127.0.0.1 - - [15/Feb/2019 02:22:50] \"POST /_dash-update-component HTTP/1.1\" 200 -\n",
      "127.0.0.1 - - [15/Feb/2019 02:22:50] \"POST /_dash-update-component HTTP/1.1\" 200 -\n"
     ]
    }
   ],
   "source": []
  },
  {
   "cell_type": "markdown",
   "metadata": {},
   "source": [
    "### scratch\n",
    "\n",
    "B-Cell,T-Cell"
   ]
  },
  {
   "cell_type": "code",
   "execution_count": 94,
   "metadata": {},
   "outputs": [
    {
     "data": {
      "text/plain": [
       "'{}'"
      ]
     },
     "execution_count": 94,
     "metadata": {},
     "output_type": "execute_result"
    }
   ],
   "source": [
    "df=pd.DataFrame()\n",
    "df.to_json()"
   ]
  },
  {
   "cell_type": "code",
   "execution_count": 9,
   "metadata": {},
   "outputs": [
    {
     "ename": "NameError",
     "evalue": "name 'widget_specie' is not defined",
     "output_type": "error",
     "traceback": [
      "\u001b[0;31m---------------------------------------------------------------------------\u001b[0m",
      "\u001b[0;31mNameError\u001b[0m                                 Traceback (most recent call last)",
      "\u001b[0;32m<ipython-input-9-86c69094010a>\u001b[0m in \u001b[0;36m<module>\u001b[0;34m\u001b[0m\n\u001b[1;32m      1\u001b[0m \u001b[0mexpression_metric\u001b[0m\u001b[0;34m=\u001b[0m\u001b[0;34m'tpm'\u001b[0m \u001b[0;31m#\u001b[0m\u001b[0;34m\u001b[0m\u001b[0;34m\u001b[0m\u001b[0m\n\u001b[1;32m      2\u001b[0m \u001b[0;34m\u001b[0m\u001b[0m\n\u001b[0;32m----> 3\u001b[0;31m \u001b[0mquerySpecie\u001b[0m\u001b[0;34m=\u001b[0m\u001b[0mwidget_specie\u001b[0m\u001b[0;34m.\u001b[0m\u001b[0mget_interact_value\u001b[0m\u001b[0;34m(\u001b[0m\u001b[0;34m)\u001b[0m\u001b[0;34m\u001b[0m\u001b[0;34m\u001b[0m\u001b[0m\n\u001b[0m\u001b[1;32m      4\u001b[0m \u001b[0;34m\u001b[0m\u001b[0m\n\u001b[1;32m      5\u001b[0m \u001b[0mqueryStr\u001b[0m\u001b[0;34m=\u001b[0m\u001b[0mwidget_query\u001b[0m\u001b[0;34m.\u001b[0m\u001b[0mget_interact_value\u001b[0m\u001b[0;34m(\u001b[0m\u001b[0;34m)\u001b[0m\u001b[0;34m\u001b[0m\u001b[0;34m\u001b[0m\u001b[0m\n",
      "\u001b[0;31mNameError\u001b[0m: name 'widget_specie' is not defined"
     ]
    }
   ],
   "source": [
    "expression_metric='tpm' #\n",
    "\n",
    "querySpecie=widget_specie.get_interact_value()\n",
    "\n",
    "queryStr=widget_query.get_interact_value()\n",
    "\n",
    "listOfQueries=re.split(\" *, *\", queryStr)\n"
   ]
  },
  {
   "cell_type": "code",
   "execution_count": 17,
   "metadata": {},
   "outputs": [],
   "source": [
    "import uuid"
   ]
  },
  {
   "cell_type": "code",
   "execution_count": null,
   "metadata": {},
   "outputs": [],
   "source": [
    "uuid.uuid4()"
   ]
  },
  {
   "cell_type": "code",
   "execution_count": 151,
   "metadata": {},
   "outputs": [],
   "source": [
    "!echo \"# skymap_web_server\" >> README.md"
   ]
  },
  {
   "cell_type": "code",
   "execution_count": 152,
   "metadata": {},
   "outputs": [
    {
     "name": "stdout",
     "output_type": "stream",
     "text": [
      "/usr/bin/sh: git: command not found\r\n"
     ]
    }
   ],
   "source": [
    "!git init"
   ]
  },
  {
   "cell_type": "code",
   "execution_count": 154,
   "metadata": {},
   "outputs": [
    {
     "name": "stdout",
     "output_type": "stream",
     "text": [
      "Collecting package metadata: done\n",
      "Solving environment: done\n",
      "\n",
      "## Package Plan ##\n",
      "\n",
      "  environment location: /home/ec2-user/miniconda3\n",
      "\n",
      "  added / updated specs:\n",
      "    - git\n",
      "\n",
      "\n",
      "The following packages will be downloaded:\n",
      "\n",
      "    package                    |            build\n",
      "    ---------------------------|-----------------\n",
      "    git-2.20.1                 |  pl526hacde149_0         7.9 MB\n",
      "    krb5-1.16.1                |       h173b8e3_7         1.4 MB\n",
      "    libcurl-7.63.0             |    h20c2e04_1000         550 KB\n",
      "    libssh2-1.8.0              |       h1ba5d50_4         233 KB\n",
      "    perl-5.26.2                |       h14c3975_0        15.9 MB\n",
      "    ------------------------------------------------------------\n",
      "                                           Total:        26.0 MB\n",
      "\n",
      "The following NEW packages will be INSTALLED:\n",
      "\n",
      "  git                pkgs/main/linux-64::git-2.20.1-pl526hacde149_0\n",
      "  krb5               pkgs/main/linux-64::krb5-1.16.1-h173b8e3_7\n",
      "  libcurl            pkgs/main/linux-64::libcurl-7.63.0-h20c2e04_1000\n",
      "  libssh2            pkgs/main/linux-64::libssh2-1.8.0-h1ba5d50_4\n",
      "  perl               pkgs/main/linux-64::perl-5.26.2-h14c3975_0\n",
      "\n",
      "The following packages will be UPDATED:\n",
      "\n",
      "  ca-certificates    conda-forge::ca-certificates-2018.11.~ --> pkgs/main::ca-certificates-2019.1.23-0\n",
      "\n",
      "The following packages will be SUPERSEDED by a higher-priority channel:\n",
      "\n",
      "  certifi            conda-forge::certifi-2018.11.29-py37_~ --> pkgs/main::certifi-2018.11.29-py37_0\n",
      "  openssl            conda-forge::openssl-1.1.1a-h14c3975_~ --> pkgs/main::openssl-1.1.1a-h7b6447c_0\n",
      "\n",
      "\n",
      "\n",
      "Downloading and Extracting Packages\n",
      "libcurl-7.63.0       | 550 KB    | ##################################### | 100% \n",
      "perl-5.26.2          | 15.9 MB   | ##################################### | 100% \n",
      "libssh2-1.8.0        | 233 KB    | ##################################### | 100% \n",
      "git-2.20.1           | 7.9 MB    | ##################################### | 100% \n",
      "krb5-1.16.1          | 1.4 MB    | ##################################### | 100% \n",
      "Preparing transaction: done\n",
      "Verifying transaction: done\n",
      "Executing transaction: done\n"
     ]
    }
   ],
   "source": [
    "#!conda install -y git"
   ]
  },
  {
   "cell_type": "code",
   "execution_count": 156,
   "metadata": {},
   "outputs": [
    {
     "name": "stdout",
     "output_type": "stream",
     "text": [
      "Initialized empty Git repository in /home/ec2-user/code/.git/\r\n"
     ]
    }
   ],
   "source": [
    "!git init"
   ]
  },
  {
   "cell_type": "code",
   "execution_count": 157,
   "metadata": {},
   "outputs": [],
   "source": [
    "!git add queryToData.ipynb "
   ]
  },
  {
   "cell_type": "code",
   "execution_count": 159,
   "metadata": {},
   "outputs": [
    {
     "name": "stdout",
     "output_type": "stream",
     "text": [
      "[master (root-commit) 11a6359] first commit\r\n",
      " Committer: EC2 Default User <ec2-user@ip-172-20-119-1.us-west-2.compute.internal>\r\n",
      "Your name and email address were configured automatically based\r\n",
      "on your username and hostname. Please check that they are accurate.\r\n",
      "You can suppress this message by setting them explicitly. Run the\r\n",
      "following command and follow the instructions in your editor to edit\r\n",
      "your configuration file:\r\n",
      "\r\n",
      "    git config --global --edit\r\n",
      "\r\n",
      "After doing this, you may fix the identity used for this commit with:\r\n",
      "\r\n",
      "    git commit --amend --reset-author\r\n",
      "\r\n",
      " 1 file changed, 528 insertions(+)\r\n",
      " create mode 100644 queryToData.ipynb\r\n"
     ]
    }
   ],
   "source": [
    "!git commit -m \"first commit\"\n"
   ]
  },
  {
   "cell_type": "code",
   "execution_count": 160,
   "metadata": {},
   "outputs": [],
   "source": [
    "!git remote add origin https://github.com/brianyiktaktsui/skymap_web_server.git"
   ]
  },
  {
   "cell_type": "code",
   "execution_count": 161,
   "metadata": {},
   "outputs": [
    {
     "name": "stdout",
     "output_type": "stream",
     "text": [
      "Username for 'https://github.com': ^C\n"
     ]
    }
   ],
   "source": [
    "!git push -u origin master"
   ]
  },
  {
   "cell_type": "code",
   "execution_count": null,
   "metadata": {},
   "outputs": [],
   "source": []
  }
 ],
 "metadata": {
  "kernelspec": {
   "display_name": "Python 3",
   "language": "python",
   "name": "python3"
  },
  "language_info": {
   "codemirror_mode": {
    "name": "ipython",
    "version": 3
   },
   "file_extension": ".py",
   "mimetype": "text/x-python",
   "name": "python",
   "nbconvert_exporter": "python",
   "pygments_lexer": "ipython3",
   "version": "3.7.1"
  }
 },
 "nbformat": 4,
 "nbformat_minor": 2
}
